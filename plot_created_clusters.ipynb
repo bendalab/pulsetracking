{
 "cells": [
  {
   "cell_type": "code",
   "execution_count": 1,
   "metadata": {},
   "outputs": [],
   "source": [
    "import pickle as pk\n",
    "import matplotlib.pyplot as plt\n",
    "import numpy as np\n",
    "import matplotlib\n",
    "from datetime import datetime\n",
    "from datetime import timedelta\n",
    "import thunderfish.pulsetracker as pt\n",
    "matplotlib.rcParams['font.size'] = 8.0\n",
    "from scipy.signal import fftconvolve\n",
    "\n",
    "from pulse_tracker import pd, cluster_object\n",
    "#%matplotlib notebook"
   ]
  },
  {
   "cell_type": "code",
   "execution_count": 2,
   "metadata": {},
   "outputs": [],
   "source": [
    "import io, os\n",
    "import pickle\n",
    "\n",
    "class RenameUnpickler(pickle.Unpickler):\n",
    "    def find_class(self, module, name):\n",
    "        renamed_module = module\n",
    "        if module == \"pulse_tracker_liz_multichannel_ml_new\":\n",
    "            renamed_module = \"pulse_tracker_liz_2D\"\n",
    "\n",
    "        return super(RenameUnpickler, self).find_class(renamed_module, name)\n",
    "\n",
    "\n",
    "def renamed_load(file_obj):\n",
    "    return RenameUnpickler(file_obj).load()\n",
    "\n",
    "\n",
    "def renamed_loads(pickled_bytes):\n",
    "    file_obj = io.BytesIO(pickled_bytes)\n",
    "    return renamed_load(file_obj)\n",
    "\n",
    "\n",
    "def kde_init(sigma, sampling_rate):\n",
    "    \"\"\"\n",
    "    creates the gaussian function which can be used to convolve with the PSTH to create a firing rate graph\n",
    "    \"\"\"\n",
    "    t = np.arange(-4*sigma, 4*sigma, 1 / sampling_rate)\n",
    "    fxn = np.exp(-0.5 * (t / sigma) ** 2) / np.sqrt(\n",
    "        2 * np.pi) / sigma  # gaussian function 2.3 (analysis of parallel spike trains)\n",
    "\n",
    "    return t, fxn\n",
    "\n",
    "def gaussian_convolve(all_spike_trains, fxn, sampling_rate, avg_opt,trial_length):\n",
    "    \"\"\"\n",
    "    Takes an array of spike trains of different sizes,\n",
    "    convolves it with a gaussian, returns the average gaussian convolve spikes\n",
    "    \"\"\"\n",
    "    all_convolve_spikes = []\n",
    "    all_pos = []\n",
    "    for spike_train in all_spike_trains:\n",
    "\n",
    "        spike_train = spike_train\n",
    "\n",
    "        # Boolean list in length of trial length, where 1 means spike happened, 0 means no spike\n",
    "        trial_bool = np.zeros(trial_length)\n",
    "        spike_indx = (spike_train * sampling_rate).astype(np.int)\n",
    "        trial_bool[spike_indx] = 1\n",
    "\n",
    "        # convolve gaussian with boolean spike list\n",
    "        convolve_spikes = np.asarray(fftconvolve(trial_bool, fxn, mode='same'))\n",
    "        all_convolve_spikes.append(convolve_spikes)\n",
    "\n",
    "    return all_convolve_spikes"
   ]
  },
  {
   "cell_type": "code",
   "execution_count": 3,
   "metadata": {},
   "outputs": [],
   "source": [
    "# only subtract if there are actually other classes present?\n",
    "\n",
    "# 0: use two channels. use original features. no temporal features \n",
    "# 2: use two channels. use two after subtracting other channels. no temporal features\n",
    "# 3: use whole spatial pattern. no temporal features\n",
    "# 4: use whole spatial pattern. use temporal features\n",
    "# 5: use whole spatial pattern. use temporal features. do not subtract eods that are not there (above threshold).\n",
    "# 6: same as 5, but only save spatial features of presumably single eods.\n",
    "# 7: same as 4, but only save spatial features of presumably single eods."
   ]
  },
  {
   "cell_type": "code",
   "execution_count": 5,
   "metadata": {
    "scrolled": true
   },
   "outputs": [
    {
     "name": "stdout",
     "output_type": "stream",
     "text": [
      "['0.pkl', 'pics', '3.pkl', '2.pkl', '1.pkl']\n",
      "data/results/2019-10-17-19_48/0.pkl\n"
     ]
    }
   ],
   "source": [
    "file_count = 0\n",
    "\n",
    "date = '2019-10-17-19_48'\n",
    "dati = datetime(2019,10,17,19,48)\n",
    "\n",
    "path = 'data/results/' + date + '/'\n",
    "\n",
    "print(os.listdir(path))\n",
    "\n",
    "for file in os.listdir(path):\n",
    "    if '0' in file:\n",
    "        try:\n",
    "            print(path+file)\n",
    "            co = pk.load(open(path+file,'rb'))\n",
    "        except:\n",
    "            print('file %i didnt work'%i)"
   ]
  },
  {
   "cell_type": "code",
   "execution_count": 6,
   "metadata": {},
   "outputs": [],
   "source": [
    "clusters = co.clusters\n",
    "dt = co.dt\n",
    "starttime = co.starttime\n",
    "endtime = co.endtime\n",
    "plot_title = dati + timedelta(0,int(starttime))\n",
    "x = np.arange(starttime,endtime,dt)"
   ]
  },
  {
   "cell_type": "code",
   "execution_count": 7,
   "metadata": {},
   "outputs": [
    {
     "data": {
      "text/plain": [
       "{'potential_eod': <pulse_tracker.cluster_object at 0x7f5128cd0b50>,\n",
       " '1': <pulse_tracker.cluster_object at 0x7f5128cb77d0>,\n",
       " '2': <pulse_tracker.cluster_object at 0x7f5128aa5c10>}"
      ]
     },
     "execution_count": 7,
     "metadata": {},
     "output_type": "execute_result"
    }
   ],
   "source": [
    "clusters"
   ]
  },
  {
   "cell_type": "code",
   "execution_count": 8,
   "metadata": {},
   "outputs": [
    {
     "data": {
      "text/plain": [
       "dict_keys(['c_tf', 'c_sf', 'c_eod'])"
      ]
     },
     "execution_count": 8,
     "metadata": {},
     "output_type": "execute_result"
    }
   ],
   "source": [
    "clusters['1'].debug.keys()"
   ]
  },
  {
   "cell_type": "code",
   "execution_count": 9,
   "metadata": {},
   "outputs": [],
   "source": [
    "idx = []\n",
    "used_clusters = []\n",
    "peakwidth = 20*co.dt\n",
    "\n",
    "#if co.potential_eod != []:\n",
    "#    clusters.append(co.potential_eod)\n",
    "\n",
    "#if co.eel != []:\n",
    "#    clusters.append(co.eel)\n",
    "\n",
    "#if co.artifacts != []:\n",
    "#    clusters.append(co.artifacts)\n",
    "\n",
    "#if co.deleted_clusters != []:\n",
    "#    for dc in co.deleted_clusters:\n",
    "#        clusters.append(dc)\n",
    "\n",
    "for k,c in clusters.items():\n",
    "    peakindices, peakx, peakh = pt.discardnearbyevents(c.ts,np.ones(len(c.ts)),peakwidth*2)\n",
    "    \n",
    "    if len(peakindices) > 0:\n",
    "        used_clusters.append(c)\n",
    "        if len(idx) > 0:\n",
    "            nidx = np.zeros(len(c.ts))\n",
    "            nidx[:len(peakindices)] = c.ts[peakindices]\n",
    "            idx = np.vstack([idx,nidx])\n",
    "        else:\n",
    "            idx = np.zeros(len(c.ts))\n",
    "            idx[:len(peakindices)] = c.ts[peakindices]"
   ]
  },
  {
   "cell_type": "code",
   "execution_count": 10,
   "metadata": {},
   "outputs": [
    {
     "data": {
      "text/plain": [
       "array([[5.11696667, 5.26076667, 5.3085    , ..., 0.        , 0.        ,\n",
       "        0.        ],\n",
       "       [0.22363333, 0.876     , 7.4216    , ..., 0.        , 0.        ,\n",
       "        0.        ],\n",
       "       [5.11696667, 5.26076667, 5.3085    , ..., 0.        , 0.        ,\n",
       "        0.        ]])"
      ]
     },
     "execution_count": 10,
     "metadata": {},
     "output_type": "execute_result"
    }
   ],
   "source": [
    "idx"
   ]
  },
  {
   "cell_type": "code",
   "execution_count": 11,
   "metadata": {},
   "outputs": [],
   "source": [
    "idx[idx == 0] = starttime\n",
    "idx = idx - starttime\n",
    "idx[idx<0] = 0"
   ]
  },
  {
   "cell_type": "code",
   "execution_count": 12,
   "metadata": {},
   "outputs": [
    {
     "data": {
      "text/plain": [
       "array([[5.11696667, 5.26076667, 5.3085    , ..., 0.        , 0.        ,\n",
       "        0.        ],\n",
       "       [0.22363333, 0.876     , 7.4216    , ..., 0.        , 0.        ,\n",
       "        0.        ],\n",
       "       [5.11696667, 5.26076667, 5.3085    , ..., 0.        , 0.        ,\n",
       "        0.        ]])"
      ]
     },
     "execution_count": 12,
     "metadata": {},
     "output_type": "execute_result"
    }
   ],
   "source": [
    "idx"
   ]
  },
  {
   "cell_type": "code",
   "execution_count": 13,
   "metadata": {},
   "outputs": [],
   "source": [
    "t, fxn = kde_init(0.04, 1/dt)\n",
    "firing_rates = gaussian_convolve(idx,fxn,1/dt,'nonaverage',int((endtime-starttime)/dt))"
   ]
  },
  {
   "cell_type": "code",
   "execution_count": 14,
   "metadata": {},
   "outputs": [],
   "source": [
    "%matplotlib tk"
   ]
  },
  {
   "cell_type": "code",
   "execution_count": 15,
   "metadata": {},
   "outputs": [
    {
     "name": "stderr",
     "output_type": "stream",
     "text": [
      "Traceback (most recent call last):\n",
      "  File \"/home/colombia/miniconda3/lib/python3.7/site-packages/matplotlib/cbook/__init__.py\", line 216, in process\n",
      "    func(*args, **kwargs)\n",
      "  File \"<ipython-input-15-6fb8a1c82bac>\", line 94, in onclick\n",
      "    cur_x, cur_y = update_plot(event.ydata,xdata=event.xdata)\n",
      "  File \"<ipython-input-15-6fb8a1c82bac>\", line 40, in update_plot\n",
      "    i = (np.abs(used_clusters[cluster].ts-starttime-tp)).argmin()\n",
      "IndexError: list index out of range\n",
      "Traceback (most recent call last):\n",
      "  File \"/home/colombia/miniconda3/lib/python3.7/site-packages/matplotlib/cbook/__init__.py\", line 216, in process\n",
      "    func(*args, **kwargs)\n",
      "  File \"<ipython-input-15-6fb8a1c82bac>\", line 94, in onclick\n",
      "    cur_x, cur_y = update_plot(event.ydata,xdata=event.xdata)\n",
      "  File \"<ipython-input-15-6fb8a1c82bac>\", line 40, in update_plot\n",
      "    i = (np.abs(used_clusters[cluster].ts-starttime-tp)).argmin()\n",
      "IndexError: list index out of range\n",
      "Traceback (most recent call last):\n",
      "  File \"/home/colombia/miniconda3/lib/python3.7/site-packages/matplotlib/cbook/__init__.py\", line 216, in process\n",
      "    func(*args, **kwargs)\n",
      "  File \"<ipython-input-15-6fb8a1c82bac>\", line 94, in onclick\n",
      "    cur_x, cur_y = update_plot(event.ydata,xdata=event.xdata)\n",
      "  File \"<ipython-input-15-6fb8a1c82bac>\", line 40, in update_plot\n",
      "    i = (np.abs(used_clusters[cluster].ts-starttime-tp)).argmin()\n",
      "IndexError: list index out of range\n",
      "Traceback (most recent call last):\n",
      "  File \"/home/colombia/miniconda3/lib/python3.7/site-packages/matplotlib/cbook/__init__.py\", line 216, in process\n",
      "    func(*args, **kwargs)\n",
      "  File \"<ipython-input-15-6fb8a1c82bac>\", line 94, in onclick\n",
      "    cur_x, cur_y = update_plot(event.ydata,xdata=event.xdata)\n",
      "  File \"<ipython-input-15-6fb8a1c82bac>\", line 40, in update_plot\n",
      "    i = (np.abs(used_clusters[cluster].ts-starttime-tp)).argmin()\n",
      "IndexError: list index out of range\n",
      "Traceback (most recent call last):\n",
      "  File \"/home/colombia/miniconda3/lib/python3.7/site-packages/matplotlib/cbook/__init__.py\", line 216, in process\n",
      "    func(*args, **kwargs)\n",
      "  File \"<ipython-input-15-6fb8a1c82bac>\", line 94, in onclick\n",
      "    cur_x, cur_y = update_plot(event.ydata,xdata=event.xdata)\n",
      "  File \"<ipython-input-15-6fb8a1c82bac>\", line 40, in update_plot\n",
      "    i = (np.abs(used_clusters[cluster].ts-starttime-tp)).argmin()\n",
      "IndexError: list index out of range\n"
     ]
    }
   ],
   "source": [
    "cur_x = 0\n",
    "cur_y = 0\n",
    "\n",
    "fig = plt.figure(figsize=(10,10))\n",
    "fig.suptitle(plot_title)\n",
    "ax0 = plt.subplot(313)\n",
    "ax1 = plt.subplot(312)\n",
    "ax2 = plt.subplot(351)\n",
    "ax3 = plt.subplot(352)\n",
    "ax4 = plt.subplot(353)\n",
    "ax5 = plt.subplot(354)\n",
    "ax6 = plt.subplot(355)\n",
    "\n",
    "ax2.set_title('extracted EOD')\n",
    "ax3.set_title('whole snip')\n",
    "#fig, [ax1, ax2] = plt.subplots(2, 1,figsize=(10,5))\n",
    "\n",
    "# create a horizontal plot\n",
    "colors1 = ['C{}'.format(i) for i in range(idx.shape[0])]\n",
    "ax1.eventplot(idx,colors=colors1)#,colors=plt.rcParams['axes.prop_cycle'].by_key()['color'][:len(used_clusters)])\n",
    "ax0.plot(x-starttime,np.transpose(firing_rates))\n",
    "\n",
    "ax1.set_xlabel('time [s]')\n",
    "ax1.set_xlim([0,(endtime-starttime)])\n",
    "\n",
    "ax0.set_xlabel('time [s]')\n",
    "ax0.set_xlim([0,endtime-starttime])\n",
    "\n",
    "def update_plot(ydata, i=None, xdata=None):\n",
    "    cluster = int(np.round(ydata))\n",
    "\n",
    "    if cluster < 0:\n",
    "        cluster = 0\n",
    "\n",
    "    elif cluster > len(used_clusters):\n",
    "        cluster = len(used_clusters)\n",
    "\n",
    "    if xdata is not None:\n",
    "        tp = xdata\n",
    "        i = (np.abs(used_clusters[cluster].ts-starttime-tp)).argmin()\n",
    "        \n",
    "    #ax1.cla()\n",
    "    ax2.cla()\n",
    "    ax3.cla()\n",
    "    ax4.cla()\n",
    "    ax5.cla()\n",
    "    #ax5.axis('off')\n",
    "    ax6.cla()\n",
    "    #ax6.axis('off')\n",
    "\n",
    "    ax3.set_title('whole snip')\n",
    "    \n",
    "    #current_maxchan = used_clusters[cluster].all_max_channels[i]\n",
    "    #current_xpos = current_maxchan%8\n",
    "    #current_ypos = np.floor(current_maxchan/8)\n",
    "    \n",
    "    #ax4.set_title('extracted EOD, maxchan=%i,(%i, %i)'%(current_maxchan,current_xpos,current_ypos))\n",
    "    #ax5.set_title('temporal')\n",
    "    \n",
    "    print(i)\n",
    "    print(len(used_clusters[cluster].debug['c_eod']))\n",
    "    ax1.plot(used_clusters[cluster].ts[i]-starttime,cluster,'x',c='r')\n",
    "    ax1.set_xlabel('time [s]')\n",
    "    \n",
    "    ax2.set_title('eod')\n",
    "    ax2.plot(used_clusters[cluster].debug['c_eod'][i])\n",
    "    \n",
    "    ax3.set_title('temp feat')\n",
    "    ax3.plot(used_clusters[cluster].debug['c_tf'][i])\n",
    "    \n",
    "    ax4.set_title('spatial pattern')\n",
    "    ax4.imshow(used_clusters[cluster].debug['c_sf'][i].reshape(4,8))\n",
    "    \n",
    "    plt.tight_layout()\n",
    "    plt.draw()\n",
    "    \n",
    "    return i, cluster\n",
    "\n",
    "def on_key(event):\n",
    "    global cur_x\n",
    "    global cur_y\n",
    "    if event.key == 'right':\n",
    "        cur_x, cur_y = update_plot(cur_y, cur_x+1)\n",
    "    elif event.key == 'left':\n",
    "        cur_x, cur_y = update_plot(cur_y, cur_x-1)\n",
    "    elif event.key == 'up':\n",
    "        cur_x, cur_y = update_plot(cur_y+1, cur_x)\n",
    "    elif event.key == 'down':\n",
    "        cur_x, cur_y = update_plot(cur_y-1, cur_x)\n",
    "\n",
    "def onclick(event):\n",
    "    global cur_x\n",
    "    global cur_y\n",
    "    cur_x, cur_y = update_plot(event.ydata,xdata=event.xdata)\n",
    "    \n",
    "cid = fig.canvas.mpl_connect('button_press_event', onclick)\n",
    "cid = fig.canvas.mpl_connect('key_press_event', on_key)"
   ]
  },
  {
   "cell_type": "code",
   "execution_count": null,
   "metadata": {},
   "outputs": [],
   "source": [
    "nidx = np.array(idx)\n",
    "nidx = idx[:4]"
   ]
  },
  {
   "cell_type": "code",
   "execution_count": 13,
   "metadata": {},
   "outputs": [
    {
     "data": {
      "text/plain": [
       "(7200,)"
      ]
     },
     "execution_count": 13,
     "metadata": {},
     "output_type": "execute_result"
    }
   ],
   "source": [
    "nidx.shape"
   ]
  },
  {
   "cell_type": "code",
   "execution_count": 16,
   "metadata": {},
   "outputs": [],
   "source": [
    "nidx[nidx>5/dt] = 0\n",
    "cols=['b','r','g','k']"
   ]
  },
  {
   "cell_type": "code",
   "execution_count": 17,
   "metadata": {},
   "outputs": [],
   "source": [
    "frs = []\n",
    "tps = []\n",
    "for i in range(4):\n",
    "    frs.append(1/(np.diff(nidx[i][nidx[i]>0]*dt)))\n",
    "    \n",
    "    idxs = np.where((frs[i]<0.6*np.median(frs[i]))|(frs[i]>1.5*np.median(frs[i])))[0]\n",
    "    idxs = np.append(idxs,np.where(frs[i]>1.5*np.median(frs[i]))[0]-1)\n",
    "    idbool = np.ones(len(frs[i])).astype('bool')\n",
    "    idbool[idxs] = 0\n",
    "    \n",
    "    tps.append((nidx[i][nidx[i]>0][:-1])[idbool]*dt)\n",
    "    frs[i] = frs[i][idbool]\n",
    "    #tps.append((nidx[i][nidx[i]>0][:-1])[frs[i]<np.mean(frs[i])])"
   ]
  },
  {
   "cell_type": "code",
   "execution_count": 18,
   "metadata": {},
   "outputs": [],
   "source": [
    "nidx[nidx==0] = 100000000"
   ]
  },
  {
   "cell_type": "code",
   "execution_count": 19,
   "metadata": {},
   "outputs": [],
   "source": [
    "cols= ['b','k','r','g']"
   ]
  },
  {
   "cell_type": "code",
   "execution_count": 20,
   "metadata": {},
   "outputs": [],
   "source": [
    "%matplotlib inline\n",
    "from matplotlib import gridspec"
   ]
  },
  {
   "cell_type": "code",
   "execution_count": 21,
   "metadata": {},
   "outputs": [],
   "source": [
    "fig = plt.figure(figsize=(8,3*0.8))\n",
    "gs = gridspec.GridSpec(2,2,hspace=0,width_ratios=[2,1])\n",
    "\n",
    "ax = fig.add_subplot(gs[0, 0])\n",
    "ax.eventplot(nidx*dt,colors=cols)\n",
    "ax.set_xlim([0,5.1])\n",
    "ax.axis('off')\n",
    "ax.set_title('(a)')\n",
    "\n",
    "ax = fig.add_subplot(gs[1, 0])\n",
    "for i in range(4):\n",
    "    ax.plot(tps[i],frs[i],c=cols[i])\n",
    "ax.set_xlim([0,5.1])\n",
    "ax.set_ylim([14,17])\n",
    "ax.set_xlabel('time [s]')\n",
    "ax.set_ylabel('EOD frequency [Hz]')\n",
    "ax.spines['top'].set_visible(False)\n",
    "ax.spines['right'].set_visible(False)\n",
    "\n",
    "ax = fig.add_subplot(gs[:, 1])\n",
    "for i in range(4):\n",
    "    ax.plot((used_clusters[i].positions[nidx[i]*dt<5,0]-7)*-1,(used_clusters[i].positions[nidx[i]*dt<5,1]-3)*-1,'o',c=cols[i],rasterized=True)\n",
    "ax.axis('square')\n",
    "ax.set_xticks([0,1,2,3,4,5,6,7])\n",
    "ax.set_xlim([0,7])\n",
    "ax.set_ylim([0,3])\n",
    "#ax.axis('off')\n",
    "# Create a Rectangle patch\n",
    "ax.grid(True)\n",
    "ax.set_title('(b)')\n",
    "\n",
    "plt.tight_layout()\n",
    "#plt.savefig('EOD_traces.svg')"
   ]
  },
  {
   "cell_type": "code",
   "execution_count": 22,
   "metadata": {},
   "outputs": [],
   "source": [
    "for i,u in enumerate(used_clusters[2].all_temp_patterns):\n",
    "    if len(u)<40:\n",
    "        a = np.zeros(40)\n",
    "        a[:len(u)] = u\n",
    "        used_clusters[2].all_temp_patterns[i] = a"
   ]
  },
  {
   "cell_type": "code",
   "execution_count": 23,
   "metadata": {
    "scrolled": false
   },
   "outputs": [],
   "source": [
    "for c in np.unique(used_clusters[2].all_max_channels):\n",
    "        plt.figure()\n",
    "        ar = np.array(used_clusters[2].all_temp_patterns)\n",
    "        #for i in range(370,400):\n",
    "        #    plt.plot(ar[used_clusters[0].all_max_channels==c][i],'b')\n",
    "        #    plt.title(i)\n",
    "        plt.plot(ar[used_clusters[2].all_max_channels==c].T,alpha=0.2)\n",
    "        #plt.figure()\n",
    "        #plt.plot(ar[used_clusters[0].all_max_channels==c][-600:-400].T,alpha=0.2)\n",
    "        plt.show()\n",
    "#if used_clusters[0].all_max_channels[i] - used_clusters[0].all_max_channels[i+1] !=0:\n",
    "#    print(i)\n",
    "#    break\n",
    "#plt.show()"
   ]
  },
  {
   "cell_type": "code",
   "execution_count": 24,
   "metadata": {},
   "outputs": [],
   "source": [
    "from matplotlib.gridspec import GridSpec\n",
    "from matplotlib.colors import LogNorm\n",
    "\n",
    "%matplotlib inline\n",
    "vmin=0.0001\n",
    "vmax=4\n",
    "fig = plt.figure(figsize=(8,5.5))\n",
    "\n",
    "gs = GridSpec(3,4)\n",
    "n = -18\n",
    "\n",
    "ax = fig.add_subplot(gs[1, :])\n",
    "ax.set_title('(c)')\n",
    "ax.axis('off')\n",
    "\n",
    "for i in range(4):\n",
    "    ax = fig.add_subplot(gs[1, i])\n",
    "    tp = used_clusters[i].all_spatial_features[n-1].reshape(4,8)*0.1\n",
    "    tp[tp<=0] = np.min(tp[tp>0])\n",
    "    ax.imshow(np.flip(tp,axis=1),cmap='Blues',norm=LogNorm(vmin=vmin,vmax=vmax))\n",
    "    ax.axis('off')\n",
    "    ax.set_title('fish #%i'%(i+1))\n",
    "\n",
    "ax = fig.add_subplot(gs[0, :2])\n",
    "ax.imshow(np.flip(used_clusters[2].all_spatial_patterns[n].reshape(4,8),axis=1)*0.1,cmap='Blues',norm=LogNorm(vmin=vmin,vmax=vmax))\n",
    "ax.set_title('current spatial pattern')\n",
    "ax.axis('off')\n",
    "\n",
    "ax = fig.add_subplot(gs[1, :])\n",
    "ax.set_title('(c)')\n",
    "ax.axis('off')\n",
    "\n",
    "ax = fig.add_subplot(gs[0, 2:])\n",
    "ax.plot(['1','2','3','4'],used_clusters[2].reg_coefs[n],'o',c='k')\n",
    "#ax.set_title('regression coeficients')\n",
    "ax.set_xlabel('fish #')\n",
    "ax.set_ylabel('regression coeficient')\n",
    "ax.set_ylim([-0.1,1.5])\n",
    "ax.set_title('(b)')\n",
    "ax.spines['top'].set_visible(False)\n",
    "ax.spines['right'].set_visible(False)\n",
    "\n",
    "ax = fig.add_subplot(gs[0, :2])\n",
    "im=ax.imshow(np.flip(used_clusters[2].all_spatial_patterns[n].reshape(4,8),axis=1)*0.1,cmap='Blues',norm=LogNorm(vmin=vmin,vmax=vmax))\n",
    "ax.set_title('(a)')\n",
    "ax.axis('off')\n",
    "\n",
    "ax = fig.add_subplot(gs[2, :2])\n",
    "tp = used_clusters[2].all_spatial_features[n].reshape(4,8)\n",
    "tp[tp<=0] = np.min(tp[tp>0])\n",
    "ax.imshow(np.flip(tp*0.1,axis=1),cmap='Blues',norm=LogNorm(vmin=vmin,vmax=vmax))\n",
    "ax.set_title('(d)')\n",
    "ax.axis('off')\n",
    "\n",
    "ax = fig.add_subplot(gs[2, 2:])\n",
    "tp = used_clusters[2].all_spatial_patterns[n].reshape(4,8)-used_clusters[2].all_spatial_features[n].reshape(4,8)\n",
    "tp[tp<=0] = np.min(tp[tp>0])\n",
    "ax.imshow(np.flip(tp*0.1,axis=1),cmap='Blues',norm=LogNorm(vmin=vmin,vmax=vmax))\n",
    "ax.set_title('(e)')\n",
    "ax.axis('off')\n",
    "\n",
    "cbar=plt.colorbar(im)\n",
    "cbar.set_label('Variance [$mV^2$]')\n",
    "\n",
    "plt.tight_layout()\n",
    "plt.savefig('spatial_feature_ex.svg')"
   ]
  },
  {
   "cell_type": "code",
   "execution_count": 25,
   "metadata": {},
   "outputs": [],
   "source": [
    "from matplotlib.gridspec import GridSpec\n",
    "%matplotlib inline\n",
    "\n",
    "fig = plt.figure()\n",
    "gs = GridSpec(6,3)\n",
    "\n",
    "ax = fig.add_subplot(gs[:, 0])\n",
    "ax.imshow(np.log(used_clusters[2].all_spatial_patterns[n].reshape(4,8)),cmap='Blues')\n",
    "ax.set_title('current spatial pattern')\n",
    "ax.axis('off')\n",
    "\n",
    "ax = fig.add_subplot(gs[:3, 2])\n",
    "tp = used_clusters[2].all_spatial_features[n].reshape(4,8)\n",
    "tp[tp<=0] = np.min(tp[tp>0])\n",
    "ax.imshow(np.log(tp),cmap='Blues')\n",
    "ax.set_title('extracted spatial pattern for fish 3')\n",
    "ax.axis('off')\n",
    "\n",
    "ax = fig.add_subplot(gs[3:, 2])\n",
    "tp = used_clusters[2].all_spatial_patterns[n].reshape(4,8)-used_clusters[2].all_spatial_features[n].reshape(4,8)\n",
    "tp[tp<=0] = np.min(tp[tp>0])\n",
    "ax.imshow(np.log(tp),cmap='Blues')\n",
    "ax.set_title('extracted spatial pattern for fish 4')\n",
    "ax.axis('off')\n",
    "\n",
    "plt.tight_layout()\n",
    "plt.savefig('position estimate.png')"
   ]
  },
  {
   "cell_type": "code",
   "execution_count": 26,
   "metadata": {},
   "outputs": [],
   "source": [
    "def real_feat(mean,idxs=None,noise_thresh=0.05,ax1=None, ax2=None):\n",
    "    mean = mean*1000\n",
    "    \n",
    "    slope_num=4\n",
    "    w_num = slope_num - 2\n",
    "    \n",
    "    ax1.plot(np.arange(len(mean))/30,mean,c='b')\n",
    "    \n",
    "    argmaxmin,y = extract_maxmin(mean,slope_num-1,ax1)\n",
    "    maxmin = y[argmaxmin]\n",
    "    slopes = np.diff(maxmin)\n",
    "\n",
    "    #print(argmaxmin)\n",
    "    if len(argmaxmin) >= slope_num+1:\n",
    "        features = np.ones((len(argmaxmin)-slope_num+2,slope_num+w_num))*-1\n",
    "        best_i = 0\n",
    "        s = 0\n",
    "        for i in range(len(argmaxmin)-slope_num):\n",
    "            if np.sum(np.abs(slopes[i:i+slope_num]))>s:\n",
    "                s = np.sum(np.abs(slopes[i:i+slope_num]))\n",
    "                best_i = i\n",
    "            if np.min(np.diff(argmaxmin[i:i+slope_num])[1:-1]/len(mean)) > noise_thresh:\n",
    "                features[i,:slope_num] = slopes[i:i+slope_num]\n",
    "                features[i,slope_num:] = 10*np.diff(argmaxmin[i:i+slope_num])[1:-1]/len(mean)\n",
    "    else:\n",
    "        return np.ones((3,slope_num+w_num))*-1,0\n",
    "    \n",
    "    \n",
    "    print('plotting')\n",
    "    ax2.plot(np.arange(len(mean))/30,mean,c='b')\n",
    "    ax2.plot(argmaxmin[best_i:best_i+slope_num+1]/30,y[argmaxmin][best_i:best_i+slope_num+1],'o',c='r')\n",
    "    \n",
    "    #ax2.plot(argmaxmin[best_i-1]/30,y[argmaxmin][best_i-1],'o',c='k',alpha=0.5)\n",
    "    #ax2.plot(argmaxmin[best_i+slope_num+1]/30,y[argmaxmin][best_i+slope_num+1],'o',c='k',alpha=0.5)\n",
    "\n",
    "    \n",
    "    #return only the features around best i?\n",
    "    if best_i == 0:\n",
    "        idx = slice(best_i,best_i+2)\n",
    "        bi = 0\n",
    "    elif len(features) > best_i + 2:\n",
    "        idx = slice(best_i-1,best_i+2)\n",
    "        bi = 1\n",
    "    else:\n",
    "        idx = slice(best_i-1,best_i+1)\n",
    "        bi = 1\n",
    "\n",
    "    if np.isin(-1,features[idx]) and np.max(features[idx])>-1:\n",
    "        features[idx,0] != -1\n",
    "        #recompute best index??\n",
    "        return features[idx][features[idx,0] != -1], np.argmax(np.sum(features[idx][features[idx,0] != -1],axis=1))\n",
    "    else:\n",
    "        return features[idx],bi\n",
    "    \n",
    "def extract_maxmin(mean,k,ax1):\n",
    "    x = range(len(mean))\n",
    "\n",
    "    y = mean\n",
    "    ig = argrelextrema(y, np.greater)\n",
    "    il = argrelextrema(y, np.less)\n",
    "    \n",
    "    argmaxmin = np.sort(np.append(ig,il)).astype('int')\n",
    "    argmaxmin = np.append(np.append(0,argmaxmin),len(mean)-1)\n",
    "    \n",
    "    ax1.plot(argmaxmin/30,y[argmaxmin],'o',c='r')\n",
    "\n",
    "    return argmaxmin,y"
   ]
  },
  {
   "cell_type": "code",
   "execution_count": 27,
   "metadata": {},
   "outputs": [],
   "source": [
    "from scipy.signal import argrelextrema\n",
    "\n",
    "fig = plt.figure(figsize=(5,3.3))\n",
    "gs = GridSpec(2,2)\n",
    "\n",
    "#fig, (ax1,ax2,ax3) = plt.subplots(1,3,sharey='row',sharex='row')\n",
    "\n",
    "ax3 = fig.add_subplot(gs[1, :])\n",
    "ax1 = fig.add_subplot(gs[0, 0])\n",
    "ax2 = fig.add_subplot(gs[0, 1],sharex=ax1,sharey=ax1)\n",
    "\n",
    "ax2.plot([0.5,1],[-5.5,-5.5],c='k')\n",
    "ax2.text(0.65,-7,'0.5 ms')\n",
    "\n",
    "ax1.plot([-0.1,-0.1],[-1,1.5],c='k')\n",
    "ax1.text(-0.23,-0.6,'2.5 mV',rotation='vertical')\n",
    "\n",
    "#ax1.set_title('(a)')\n",
    "#ax2.set_title('(b)')\n",
    "#ax3.set_title('(c)')\n",
    "\n",
    "ax1.axis('off')\n",
    "ax2.axis('off')\n",
    "\n",
    "ax1.set_xlabel('time [ms]')\n",
    "ax2.set_xlabel('time [ms]')\n",
    "ax1.set_ylabel('amplitude [mV]')\n",
    "ax3.set_xlabel('feature #')\n",
    "ax3.set_ylabel('feature value [a.u.]')\n",
    "\n",
    "ax3.spines['top'].set_visible(False)\n",
    "ax3.spines['right'].set_visible(False)\n",
    "ax3.set_ylim([-10,10])\n",
    "\n",
    "plt.setp(ax2.get_yticklabels(), visible=False)\n",
    "\n",
    "rf, bi = real_feat(used_clusters[3].all_temp_patterns[n],ax1=ax1,ax2=ax2)\n",
    "\n",
    "ax3.plot(range(1,7),rf[bi],'o',c='k')\n",
    "#for rff in rf:\n",
    "#    ax3.plot(rff,'--',c='k',alpha=0.5)\n",
    "plt.tight_layout()\n",
    "plt.savefig('temp_features.svg')"
   ]
  },
  {
   "cell_type": "code",
   "execution_count": 28,
   "metadata": {},
   "outputs": [],
   "source": [
    "# compute maxima and minima of peak.\n",
    "# select the n peaks that have the greatest difference\n",
    "# features: \n",
    "plt.figure(figsize=(2,6))\n",
    "for t in range(10):\n",
    "    ax2 = plt.subplot(10,1,t+1)\n",
    "    plt.gca().axis('off')\n",
    "    #plt.plot(used_clusters[2].all_temp_patterns[n-t],c='b')\n",
    "    rf, bi = real_feat(used_clusters[2].all_temp_patterns[n],ax1=ax1,ax2=ax2)\n",
    "plt.tight_layout()\n",
    "plt.savefig('10_temp.svg')"
   ]
  },
  {
   "cell_type": "code",
   "execution_count": 34,
   "metadata": {},
   "outputs": [],
   "source": [
    "plt.figure(figsize=(3,2))\n",
    "ax2 = plt.subplot(1,1,1)\n",
    "plt.gca().axis('off')\n",
    "    #plt.plot(used_clusters[2].all_temp_patterns[n-t],c='b')\n",
    "rf, bi = real_feat(used_clusters[2].all_temp_patterns[n],ax1=ax1,ax2=ax2)\n",
    "plt.savefig('new_temp.svg')"
   ]
  },
  {
   "cell_type": "code",
   "execution_count": null,
   "metadata": {},
   "outputs": [],
   "source": []
  }
 ],
 "metadata": {
  "kernelspec": {
   "display_name": "Python 3",
   "language": "python",
   "name": "python3"
  },
  "language_info": {
   "codemirror_mode": {
    "name": "ipython",
    "version": 3
   },
   "file_extension": ".py",
   "mimetype": "text/x-python",
   "name": "python",
   "nbconvert_exporter": "python",
   "pygments_lexer": "ipython3",
   "version": "3.7.6"
  }
 },
 "nbformat": 4,
 "nbformat_minor": 1
}
