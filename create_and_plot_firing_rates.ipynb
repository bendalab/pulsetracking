{
 "cells": [
  {
   "cell_type": "code",
   "execution_count": 1,
   "metadata": {},
   "outputs": [],
   "source": [
    "import pickle as pk\n",
    "import matplotlib.pyplot as plt\n",
    "import numpy as np\n",
    "import matplotlib\n",
    "from datetime import datetime\n",
    "from datetime import timedelta\n",
    "import thunderfish.pulsetracker as pt\n",
    "from scipy.signal import fftconvolve\n",
    "matplotlib.rcParams['font.size'] = 8.0\n",
    "from scipy.signal import argrelextrema\n",
    "import matplotlib.cm as cm\n",
    "import os\n",
    "import glob\n",
    "\n",
    "from pulse_tracker import pd, cluster_object\n",
    "\n",
    "%matplotlib notebook"
   ]
  },
  {
   "cell_type": "code",
   "execution_count": 2,
   "metadata": {},
   "outputs": [],
   "source": [
    "def RunningMedian(x,N):\n",
    "    \n",
    "    result = np.zeros(len(x))\n",
    "    result[:int(N/2)] = np.nanmedian(x[:int(N/2)])\n",
    "    result[-int(N/2):] = np.nanmedian(x[-int(N/2):])\n",
    "    \n",
    "    idx = np.arange(N) + np.arange(len(x)-N+1)[:,None]\n",
    "    b = [row[row>0] for row in x[idx]]\n",
    "    \n",
    "    try:\n",
    "        result[int(N/2)-1:-int(N/2)] = np.array([np.nanmedian(c) for c in b])\n",
    "    except:\n",
    "        result[int(N/2):-int(N/2)] = np.array([np.nanmedian(c) for c in b])\n",
    "    return result"
   ]
  },
  {
   "cell_type": "code",
   "execution_count": 3,
   "metadata": {},
   "outputs": [],
   "source": [
    "def kde_init(sigma, sampling_rate):\n",
    "    \"\"\"\n",
    "    creates the gaussian function which can be used to convolve with the PSTH to create a firing rate graph\n",
    "    \"\"\"\n",
    "    t = np.arange(-4*sigma, 4*sigma, 1 / sampling_rate)\n",
    "    fxn = np.exp(-0.5 * (t / sigma) ** 2) / np.sqrt(\n",
    "        2 * np.pi) / sigma  # gaussian function 2.3 (analysis of parallel spike trains)\n",
    "\n",
    "    return t, fxn\n",
    "\n",
    "def gaussian_convolve(all_spike_trains, fxn, sampling_rate, avg_opt,trial_length):\n",
    "    \"\"\"\n",
    "    Takes an array of spike trains of different sizes,\n",
    "    convolves it with a gaussian, returns the average gaussian convolve spikes\n",
    "    \"\"\"\n",
    "    all_convolve_spikes = []\n",
    "    all_pos = []\n",
    "    for spike_train in all_spike_trains:\n",
    "        \n",
    "        spike_train = spike_train\n",
    "\n",
    "        # Boolean list in length of trial length, where 1 means spike happened, 0 means no spike\n",
    "        trial_bool = np.zeros(trial_length)\n",
    "        spike_indx = (spike_train * sampling_rate).astype(np.int)\n",
    "        trial_bool[spike_indx] = 1\n",
    "\n",
    "        # convolve gaussian with boolean spike list\n",
    "        convolve_spikes = np.asarray(fftconvolve(trial_bool, fxn, mode='same'))\n",
    "        all_convolve_spikes.append(convolve_spikes)\n",
    "\n",
    "    return all_convolve_spikes\n",
    "\n",
    "def fill_gaps(st,isi):\n",
    "    N=200\n",
    "    \n",
    "    # just delete all isis above a certain number\n",
    "    val4 = RunningMedian(isi,N)\n",
    "    \n",
    "    #st[isi>val4*1.5] = np.nan\n",
    "    isi[isi>val4*1.5] = np.nan\n",
    "    isi[1/(isi)<10] = np.nan\n",
    "\n",
    "    return st, isi, val4\n",
    "\n",
    "def delete_artifacts(st,isi,positions):\n",
    "    # instead, I can compute runningmedian once and delete values at same idxs as im deleting from the spiketrain.\n",
    "    # this will make it faster.\n",
    "    print(np.median(np.abs(np.diff(isi))))\n",
    "    \n",
    "    N=100\n",
    "    # just delete all isis above a certain number\n",
    "    runmed = RunningMedian(isi,N)\n",
    "    #plt.figure()\n",
    "    while True:\n",
    "        \n",
    "        # delete these from the spiketrain.\n",
    "        del_idxs = np.where(isi<runmed*0.7)[0]\n",
    "\n",
    "        if len(del_idxs) == 0:\n",
    "            break\n",
    "        if len(del_idxs) > 1:\n",
    "            c_del_idxs = del_idxs[np.append([0],np.where(np.diff(del_idxs) > 1)[0]+1)]\n",
    "        else:\n",
    "            c_del_idxs = del_idxs\n",
    "\n",
    "        st = np.delete(st,c_del_idxs)\n",
    "        runmed = np.delete(runmed,c_del_idxs)\n",
    "        positions = np.delete(positions,c_del_idxs,axis=0)\n",
    "        \n",
    "        isi = np.diff(st)\n",
    "        \n",
    "    return st, isi, runmed, positions\n",
    "    \n",
    "\n",
    "def combine_clusters(sts):\n",
    "    \n",
    "    # try all combinations of the four spiketrains.\n",
    "    # check if combining reduces the variance.\n",
    "    # or maybe only the ones with close/overlapping positions\n",
    "    \n",
    "    for i,ist in enumerate(sts):\n",
    "        for j,jst in enumerate(sts[i+1:]):\n",
    "            if len(np.nonzero(ist)[0]) > 0 and len(np.nonzero(jst)[0]) > 0:\n",
    "                old_var = np.var(ist[np.nonzero(ist)])\n",
    "                new_diff = np.diff(np.sort(np.concatenate((ist[np.nonzero(ist)],jst[np.nonzero(jst)]))))\n",
    "                if np.mean(new_diff)<np.min(old_diff):\n",
    "                    print('combine clusters %i and %i'%(i,j+i+1))\n",
    "                    \n",
    "def del_nan_idx(isi,st,N):\n",
    "    \n",
    "    fr = 1/isi\n",
    "    \n",
    "    nan_idx = np.where(np.isnan(fr))[0]\n",
    "    \n",
    "    if len(nan_idx) > 0:\n",
    "    \n",
    "        slices = nan_idx[np.append([0],np.where(np.diff(nan_idx)>1)[0])] - 1\n",
    "        end_slices = nan_idx[np.append(np.where(np.diff(nan_idx)>1)[0],[len(nan_idx)-2])] + 1\n",
    "        \n",
    "        \n",
    "        slices = st[nan_idx[np.append([0],np.where(np.diff(nan_idx)>1)[0])]]\n",
    "        end_slices = st[nan_idx[np.append(np.where(np.diff(nan_idx)>1)[0],[len(nan_idx)-2])]+1]\n",
    "\n",
    "        slice_diff = end_slices - slices\n",
    "    #    #slice_diff = st[end_slices] - st[slices]\n",
    "        \n",
    "        keep_slices_idx = np.where(slice_diff < 30000)[0]\n",
    "\n",
    "    #    #keep_slices_idx = np.where(slice_diff < N)[0]\n",
    "\n",
    "    #    keep_idxs = []\n",
    "\n",
    "        # how do I know the end idx?\n",
    "\n",
    "        for d in range(len(keep_slices_idx)):\n",
    "            keep_idxs = np.append(keep_idxs,np.arange(slices[int(d)],end_slices[int(d)]))\n",
    "    else:\n",
    "        keep_idxs = np.array([0]) #np.arange(len(isi))\n",
    "\n",
    "    return keep_idxs\n",
    "                    \n",
    "def plot_smooth(spiketimes,isi,N,M):\n",
    "    \n",
    "    # delete any fr under 10.\n",
    "    \n",
    "    isisList = {}\n",
    "    stsList = {}\n",
    "    fisisList = {}\n",
    "    fstsList = {}\n",
    "    \n",
    "    cols = cm.rainbow(np.linspace(0, 1, len(spiketimes.keys())))\n",
    "    \n",
    "    plt.figure()\n",
    "    \n",
    "    for i,sti in enumerate(spiketimes.keys()):\n",
    "        if len(spiketimes[sti])>0:\n",
    "            \n",
    "            g_idx = np.where(np.isnan(isi[sti])[:-1])[0]\n",
    "            to_nan_idx = np.where(np.diff(spiketimes[sti])>1)[0]\n",
    "\n",
    "            del_idx = np.where(np.isnan(isi[sti]))[0]\n",
    "            \n",
    "            if True: #len(isi[sti]) - len(del_idx) - len(to_nan_idx) > 20:\n",
    "                cisi = isi[sti]\n",
    "                isis = RunningMedian(cisi,N)\n",
    "\n",
    "                isis[to_nan_idx] = np.nan\n",
    "\n",
    "                #reinsert nans so it can be seen where the interpolation happened\n",
    "                plt.plot(spiketimes[sti]/60,1/(isis),alpha=0.5,c=cols[i])\n",
    "\n",
    "                fisisList[sti] = 1/(isis)\n",
    "                fstsList[sti] = spiketimes[sti]/60\n",
    "\n",
    "                isis[del_idx.astype('int')] = np.nan\n",
    "\n",
    "                plt.plot(spiketimes[sti]/60,1/(isis),c=cols[i])\n",
    "\n",
    "                isisList[sti] = 1/(isis)\n",
    "                stsList[sti] = spiketimes[sti]/60\n",
    "            \n",
    "    plt.xlabel('time [min]')\n",
    "    plt.ylabel('EOD frequency [Hz]')\n",
    "    \n",
    "    return isisList,fisisList,stsList,fstsList\n",
    "    #for xc in et:\n",
    "    #    plt.axvline(x=xc*dt/60,color='k')\n",
    "\n",
    "    # interpolate rows of nans that are larger than N, otherwise dont plot."
   ]
  },
  {
   "cell_type": "code",
   "execution_count": 4,
   "metadata": {
    "scrolled": true
   },
   "outputs": [
    {
     "name": "stdout",
     "output_type": "stream",
     "text": [
      "['0.pkl', 'pics', '1.pkl']\n"
     ]
    }
   ],
   "source": [
    "file_count = 0\n",
    "\n",
    "date = '2019-10-17-19_48'\n",
    "dati = datetime(2019,10,17,19,48)\n",
    "\n",
    "path = 'data/results/' + date + '/'\n",
    "\n",
    "print(os.listdir(path))\n",
    "file_count = len([n for n in os.listdir(path) if '.pkl' in n])"
   ]
  },
  {
   "cell_type": "code",
   "execution_count": 5,
   "metadata": {},
   "outputs": [
    {
     "data": {
      "text/plain": [
       "2"
      ]
     },
     "execution_count": 5,
     "metadata": {},
     "output_type": "execute_result"
    }
   ],
   "source": [
    "file_count"
   ]
  },
  {
   "cell_type": "code",
   "execution_count": 6,
   "metadata": {
    "scrolled": true
   },
   "outputs": [
    {
     "name": "stdout",
     "output_type": "stream",
     "text": [
      "range(0, 2)\n"
     ]
    }
   ],
   "source": [
    "firing_rates = np.zeros((file_count*300*60,4))\n",
    "fi = 0\n",
    "et = []\n",
    "ep = []\n",
    "st = {}\n",
    "positions = {}\n",
    "print(range(fi,fi+file_count))\n",
    "\n",
    "for i in range(fi,fi+file_count):\n",
    "    pickle_path = '%s%i.pkl'%(path,i)\n",
    "    co = pk.load(open(pickle_path,'rb'))\n",
    "\n",
    "    if len(co.eel.ts[np.nonzero(co.eel.ts)]) > 0:\n",
    "        et = np.append(et,co.eel.ts[np.nonzero(co.eel.ts)])\n",
    "        pos = co.eel.positions[np.nonzero(co.eel.positions[:,0]-99)]\n",
    "        if len(ep) == 0:\n",
    "            ep = pos\n",
    "        else:\n",
    "            ep = np.concatenate((ep,pos))\n",
    "\n",
    "    if i == 0:\n",
    "        starttime = co.starttime\n",
    "    elif i == file_count-1:\n",
    "        endtime = co.endtime\n",
    "        dt = co.dt\n",
    "\n",
    "    #try:\n",
    "    #    for ci,cl in enumerate(co.clusters):\n",
    "    #        if cl.label < 5 and cl.label in co.used_labels:\n",
    "    #            firing_rates[i*300*60:(i+1)*300*60,cl.label-1] = np.stack(co.firing_rates)[np.where(np.asarray(co.used_labels)==cl.label)[0],::100]\n",
    "    #except:\n",
    "    idx = []\n",
    "    used_clusters = []\n",
    "    used_labels = []\n",
    "    peakwidth = 20\n",
    "    \n",
    "    all_clus = co.clusters\n",
    "    \n",
    "    for k,c in all_clus.items():\n",
    "        if k != 'potential_eod':\n",
    "            if True: #len(c.ts[np.nonzero(c.ts)]) > 20:\n",
    "                ts = c.ts[np.nonzero(c.ts)]\n",
    "                pos = c.positions[np.nonzero(c.ts)]\n",
    "\n",
    "                if c.label in st:\n",
    "                    st[c.label] = np.append(st[c.label],ts)\n",
    "                    positions[c.label] = np.concatenate((positions[c.label],pos))\n",
    "                else:\n",
    "                    st[c.label] = ts\n",
    "                    positions[c.label] = pos"
   ]
  },
  {
   "cell_type": "code",
   "execution_count": 7,
   "metadata": {},
   "outputs": [
    {
     "data": {
      "text/plain": [
       "[]"
      ]
     },
     "execution_count": 7,
     "metadata": {},
     "output_type": "execute_result"
    }
   ],
   "source": [
    "et"
   ]
  },
  {
   "cell_type": "code",
   "execution_count": 8,
   "metadata": {},
   "outputs": [],
   "source": [
    "st_original = st"
   ]
  },
  {
   "cell_type": "code",
   "execution_count": 9,
   "metadata": {
    "scrolled": false
   },
   "outputs": [
    {
     "name": "stdout",
     "output_type": "stream",
     "text": [
      "0.00019999999999242846\n"
     ]
    },
    {
     "name": "stderr",
     "output_type": "stream",
     "text": [
      "/home/colombia/miniconda3/lib/python3.7/site-packages/ipykernel_launcher.py:41: RuntimeWarning: invalid value encountered in less\n"
     ]
    },
    {
     "name": "stdout",
     "output_type": "stream",
     "text": [
      "0.00016666666666687036\n"
     ]
    },
    {
     "name": "stderr",
     "output_type": "stream",
     "text": [
      "/home/colombia/miniconda3/lib/python3.7/site-packages/numpy/lib/nanfunctions.py:1116: RuntimeWarning: All-NaN slice encountered\n",
      "  overwrite_input=overwrite_input)\n",
      "/home/colombia/miniconda3/lib/python3.7/site-packages/ipykernel_launcher.py:8: RuntimeWarning: invalid value encountered in greater\n",
      "  \n",
      "/home/colombia/miniconda3/lib/python3.7/site-packages/numpy/lib/nanfunctions.py:1113: RuntimeWarning: Mean of empty slice\n",
      "  return np.nanmean(a, axis, out=out, keepdims=keepdims)\n",
      "/home/colombia/miniconda3/lib/python3.7/site-packages/ipykernel_launcher.py:8: RuntimeWarning: invalid value encountered in greater\n",
      "  \n",
      "/home/colombia/miniconda3/lib/python3.7/site-packages/numpy/lib/nanfunctions.py:1113: RuntimeWarning: Mean of empty slice\n",
      "  return np.nanmean(a, axis, out=out, keepdims=keepdims)\n"
     ]
    },
    {
     "data": {
      "image/png": "[encoded data removed]",
      "text/plain": [
       "<Figure size 432x288 with 1 Axes>"
      ]
     },
     "metadata": {
      "needs_background": "light"
     },
     "output_type": "display_data"
    }
   ],
   "source": [
    "# try this new code to see if this works. if it does I can change the way the spiketrain is edited.\n",
    "%matplotlib inline\n",
    "spti = {}\n",
    "isis = {}\n",
    "rav = {}\n",
    "\n",
    "nspti = {}\n",
    "nisis = {}\n",
    "nrav = {}\n",
    "\n",
    "for i,sti in enumerate(st.keys()):\n",
    "    cst = st[sti]\n",
    "    cp = positions[sti]\n",
    "    cisi = np.diff(cst)\n",
    "    if len(cisi) > 0:\n",
    "        spti[sti], isis[sti], rav[sti], positions[sti] = delete_artifacts(cst,cisi,cp)\n",
    "        nspti[sti], nisis[sti], nrav[sti] = fill_gaps(spti[sti][:-1],np.diff(spti[sti]))\n",
    "        \n",
    "isis,fisis,sts,fsts = plot_smooth(nspti,nisis,5,1)"
   ]
  },
  {
   "cell_type": "code",
   "execution_count": 10,
   "metadata": {},
   "outputs": [],
   "source": [
    "if len(et)>0:\n",
    "    et = et/60"
   ]
  },
  {
   "cell_type": "code",
   "execution_count": 11,
   "metadata": {},
   "outputs": [
    {
     "data": {
      "text/plain": [
       "[]"
      ]
     },
     "execution_count": 11,
     "metadata": {},
     "output_type": "execute_result"
    }
   ],
   "source": [
    "et"
   ]
  },
  {
   "cell_type": "code",
   "execution_count": 12,
   "metadata": {
    "scrolled": false
   },
   "outputs": [
    {
     "name": "stdout",
     "output_type": "stream",
     "text": [
      "0\n"
     ]
    },
    {
     "data": {
      "image/png": "[encoded data removed]",
      "text/plain": [
       "<Figure size 1080x360 with 2 Axes>"
      ]
     },
     "metadata": {
      "needs_background": "light"
     },
     "output_type": "display_data"
    },
    {
     "name": "stdout",
     "output_type": "stream",
     "text": [
      "1\n"
     ]
    },
    {
     "data": {
      "image/png": "[encoded data removed]",
      "text/plain": [
       "<Figure size 1080x360 with 2 Axes>"
      ]
     },
     "metadata": {
      "needs_background": "light"
     },
     "output_type": "display_data"
    }
   ],
   "source": [
    "%matplotlib inline\n",
    "# I should plot timepoints instead...\n",
    "prop_cycle = plt.rcParams['axes.prop_cycle']\n",
    "colors = prop_cycle.by_key()['color']\n",
    "\n",
    "for t in np.arange(fi,fi+file_count):\n",
    "    print(t)\n",
    "    fig = plt.figure(figsize=(15,5))\n",
    "    ax1 = plt.subplot(121)\n",
    "    ax2 = plt.subplot(122)\n",
    "    \n",
    "    ax1.set_ylim([3,0])\n",
    "    ax1.set_xlim([0,7])\n",
    "    ax1.set_aspect('equal')\n",
    "    \n",
    "    if len(et)>0:\n",
    "        ax1.scatter(ep[(et>t) & (et<(t+1)),0],ep[(et>t) & (et<(t+1)),1],color='k',marker='x')\n",
    "\n",
    "    for i,pk in enumerate(sts.keys()):\n",
    "        if np.count_nonzero((st[pk]>t*60) & (st[pk]<(t+1)*60)) > 1:\n",
    "            \n",
    "            p = positions[pk][:-1]\n",
    "                    \n",
    "            x = sts[pk]\n",
    "            y = isis[pk]\n",
    "            fx = fsts[pk]\n",
    "            fy = fisis[pk]\n",
    "            \n",
    "            ax1.scatter(p[(x>t) & (x<(t+1)) & (~np.isnan(y)),1],p[(x>t) & (x<(t+1)) & (~np.isnan(y)),0],alpha=0.5,color=colors[i%len(colors)])\n",
    "            #ax1.scatter(p[(x>t) & (x<(t+1)),1],p[(x>t) & (x<(t+1)) ,0],alpha=0.5,color=colors[i%len(colors)])\n",
    "\n",
    "\n",
    "            ax2.plot(x[(x>t) & (x<t+1)]*60,y[(x>t) & (x<t+1)],color=colors[i%len(colors)])\n",
    "            ax2.plot(fx[(fx>t) & (fx<t+1)]*60,fy[(fx>t) & (fx<t+1)],alpha=0.5,color=colors[i%len(colors)])\n",
    "\n",
    "    ax2.set_xlabel('time [s]')\n",
    "    ax2.set_ylabel('EOD frequency [Hz]')\n",
    "\n",
    "    if len(et) > 0 and len(et[(et>t) & (et<t+1)]) > 0:\n",
    "        for xc in et[(et>t) & (et<t+1)]:\n",
    "            plt.axvline(x=xc*60,color='k')\n",
    "\n",
    "    directory = path + 'pics/'\n",
    "    if not os.path.exists(directory):\n",
    "        os.makedirs(directory)\n",
    "    plt.title('%s'%(dati + timedelta(0,0,0,0,int(t))))\n",
    "    plt.savefig('%s%i.png'%(directory,t))\n",
    "    plt.show()"
   ]
  },
  {
   "cell_type": "code",
   "execution_count": 13,
   "metadata": {},
   "outputs": [
    {
     "data": {
      "text/plain": [
       "dict_keys(['potential_eod', '1', '2'])"
      ]
     },
     "execution_count": 13,
     "metadata": {},
     "output_type": "execute_result"
    }
   ],
   "source": [
    "co.clusters.keys()"
   ]
  },
  {
   "cell_type": "code",
   "execution_count": null,
   "metadata": {},
   "outputs": [],
   "source": []
  },
  {
   "cell_type": "code",
   "execution_count": null,
   "metadata": {},
   "outputs": [],
   "source": []
  }
 ],
 "metadata": {
  "kernelspec": {
   "display_name": "Python 3",
   "language": "python",
   "name": "python3"
  },
  "language_info": {
   "codemirror_mode": {
    "name": "ipython",
    "version": 3
   },
   "file_extension": ".py",
   "mimetype": "text/x-python",
   "name": "python",
   "nbconvert_exporter": "python",
   "pygments_lexer": "ipython3",
   "version": "3.7.6"
  }
 },
 "nbformat": 4,
 "nbformat_minor": 1
}
